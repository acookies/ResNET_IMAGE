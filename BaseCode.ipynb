{
 "cells": [
  {
   "cell_type": "code",
   "execution_count": 1,
   "id": "conditional-stone",
   "metadata": {},
   "outputs": [
    {
     "name": "stdout",
     "output_type": "stream",
     "text": [
      "2.6.0\n"
     ]
    }
   ],
   "source": [
    "try:\n",
    "  %tensorflow_version 2.x\n",
    "except Exception:\n",
    "  pass\n",
    "import tensorflow as tf\n",
    "print(tf.__version__) # 2.4.1\n",
    "\n",
    "import numpy as np\n",
    "import os"
   ]
  },
  {
   "cell_type": "code",
   "execution_count": 6,
   "id": "centered-venice",
   "metadata": {},
   "outputs": [],
   "source": [
    "BATCH_SIZE = 128\n",
    "IMAGE_WIDTH = 32\n",
    "IMAGE_HEIGHT = 32\n",
    "NUM_CLASSES = 10\n",
    "CHANNELS = 3"
   ]
  },
  {
   "cell_type": "code",
   "execution_count": 7,
   "id": "critical-communication",
   "metadata": {},
   "outputs": [],
   "source": [
    "from keras.datasets import cifar10\n",
    "\n",
    "def generate_datasets():\n",
    "  (X_train, y_train), (X_test, y_test) = cifar10.load_data() # cifar 10 데이터셋 로드\n",
    "  X_test, y_test = resize_and_rescale(X_test, y_test) \n",
    "  X_train, y_train = augment(X_train, y_train) # data augmentation\n",
    "  return X_train, y_train, X_test, y_test\n",
    "\n",
    "def resize_and_rescale(image, label):\n",
    "  image = tf.cast(image, tf.float32)\n",
    "  image = tf.image.resize(image, [IMAGE_WIDTH, IMAGE_HEIGHT])\n",
    "\t# training image의 intensity mean 값이 있다면 load, 없으면 구한다.\n",
    "  if os.path.exists('pixel_mean_value.npy'): \n",
    "    mean_image = np.load('pixel_mean_value.npy')\n",
    "  else:\n",
    "    mean_image = np.mean(image, axis=0)\n",
    "  image -= mean_image # per-pixel mean subtraction\n",
    "  image = (image / 128.0) # normalization to [-1,1]\n",
    "  return image, label\n",
    "\n",
    "def augment(image,label):\n",
    "  image, label = resize_and_rescale(image, label)\n",
    "  # Add 4 pixels of padding\n",
    "  image = tf.map_fn(lambda img: tf.image.resize_with_crop_or_pad(img, IMAGE_WIDTH + 4, IMAGE_HEIGHT + 4), image)\n",
    "   # Random crop back to the original size\n",
    "  image = tf.map_fn(lambda img: tf.image.random_crop(img, size=[IMAGE_WIDTH, IMAGE_HEIGHT, 3]), image)\n",
    "  image = tf.map_fn(lambda img: tf.image.random_flip_left_right(img), image)  \n",
    "  return image, label"
   ]
  },
  {
   "cell_type": "code",
   "execution_count": 8,
   "id": "material-document",
   "metadata": {},
   "outputs": [],
   "source": [
    "class BasicBlock(tf.keras.layers.Layer):  \n",
    "  def __init__(self, filter_num, stride=1):\n",
    "    super(BasicBlock, self).__init__()\n",
    "    initializer = tf.keras.initializers.HeNormal()\n",
    "    l2 = tf.keras.regularizers.l2(0.0001)\n",
    "    self.conv1 = tf.keras.layers.Conv2D(filters=filter_num, kernel_size=(3,3), \n",
    "                  strides=stride, padding='same', kernel_regularizer=l2, \n",
    "                  kernel_initializer=initializer)\n",
    "    self.bn1 = tf.keras.layers.BatchNormalization()\n",
    "    self.conv2 = tf.keras.layers.Conv2D(filters=filter_num, kernel_size=(3,3),\n",
    "                  strides=1, padding='same', kernel_regularizer=l2, \n",
    "                  kernel_initializer=initializer)\n",
    "    self.bn2 = tf.keras.layers.BatchNormalization()\n",
    "    if stride != 1:\n",
    "      self.downsample = tf.keras.Sequential()\n",
    "      self.downsample.add(tf.keras.layers.Conv2D(filters=filter_num, kernel_size=(1,1),\n",
    "                  strides=stride, kernel_regularizer=l2,\n",
    "                  kernel_initializer=initializer))\n",
    "      self.downsample.add(tf.keras.layers.BatchNormalization())\n",
    "    else:\n",
    "      self.downsample = lambda x: x\n",
    "\n",
    "  def call(self, inputs, **kwargs):\n",
    "    residual = self.downsample(inputs)\n",
    "\n",
    "    x = self.conv1(inputs)\n",
    "    x = self.bn1(x)\n",
    "    x = tf.nn.relu(x)\n",
    "    x = self.conv2(x)\n",
    "    x = self.bn2(x)\n",
    "\n",
    "    output = tf.nn.relu(tf.keras.layers.add([residual, x]))\n",
    "\n",
    "    return output\n",
    "\n",
    "def make_basic_block_layer(filter_num, blocks, stride=1):\n",
    "  res_block = tf.keras.Sequential()\n",
    "  res_block.add(BasicBlock(filter_num, stride=stride))\n",
    "\n",
    "  for _ in range(1, blocks):\n",
    "    res_block.add(BasicBlock(filter_num, stride=1))\n",
    "\n",
    "  return res_block\n"
   ]
  },
  {
   "cell_type": "code",
   "execution_count": 9,
   "id": "advised-stocks",
   "metadata": {},
   "outputs": [],
   "source": [
    "class ResNet(tf.keras.Model):  \n",
    "  def __init__(self, layer_params):\n",
    "    super(ResNet, self).__init__()\n",
    "    initializer = tf.keras.initializers.HeNormal()\n",
    "    l2 = tf.keras.regularizers.l2(0.0001)\n",
    "    self.conv1 = tf.keras.layers.Conv2D(filters=16, kernel_size=(3, 3), strides=1, \n",
    "                    padding='same', kernel_regularizer=l2, kernel_initializer=initializer)\n",
    "    self.bn1 = tf.keras.layers.BatchNormalization()\n",
    "    self.layer1 = make_basic_block_layer(filter_num=16, blocks=layer_params[0], stride=2)\n",
    "    self.layer2 = make_basic_block_layer(filter_num=32, blocks=layer_params[1], stride=2)\n",
    "    self.layer3 = make_basic_block_layer(filter_num=64, blocks=layer_params[2], stride=2)\n",
    "    self.avgpool = tf.keras.layers.GlobalAveragePooling2D()\n",
    "    self.fc = tf.keras.layers.Dense(units=NUM_CLASSES, activation=tf.keras.activations.softmax,\n",
    "                    kernel_regularizer=l2, kernel_initializer=initializer)\n",
    "\n",
    "  def call(self, inputs):\n",
    "    x = self.conv1(inputs)\n",
    "    x = self.bn1(x)\n",
    "    x = tf.nn.relu(x)\n",
    "    x = self.layer1(x)\n",
    "    x = self.layer2(x)\n",
    "    x = self.layer3(x)\n",
    "    x = self.avgpool(x)\n",
    "    output = self.fc(x)\n",
    "\n",
    "    return output\n",
    "\n",
    "def get_model():\n",
    "  model = ResNet(layer_params=[3, 3, 3]) # basic block으로 3쌍의 conv-bn layer를 쌓음\n",
    "  model.build(input_shape=(None, IMAGE_WIDTH, IMAGE_HEIGHT, CHANNELS))\n",
    "  model.compile(optimizer=tf.keras.optimizers.SGD(lr=0.1, momentum=0.9, nesterov=False), \n",
    "                    loss='sparse_categorical_crossentropy', metrics=['accuracy'])\n",
    "  model.summary()\n",
    "  return model\n"
   ]
  },
  {
   "cell_type": "code",
   "execution_count": 11,
   "id": "further-lotus",
   "metadata": {},
   "outputs": [],
   "source": [
    "X_train, y_train, X_test, y_test = generate_datasets()"
   ]
  },
  {
   "cell_type": "code",
   "execution_count": 15,
   "id": "loving-investment",
   "metadata": {
    "scrolled": true
   },
   "outputs": [
    {
     "name": "stdout",
     "output_type": "stream",
     "text": [
      "train input shape:  (50000, 32, 32, 3)\n",
      "test input shape:  (10000, 32, 32, 3)\n",
      "train output shape:  (50000, 1)\n",
      "train oupput shape:  (50000, 1)\n",
      "Model: \"res_net_1\"\n",
      "_________________________________________________________________\n",
      "Layer (type)                 Output Shape              Param #   \n",
      "=================================================================\n",
      "conv2d_22 (Conv2D)           multiple                  448       \n",
      "_________________________________________________________________\n",
      "batch_normalization_22 (Batc multiple                  64        \n",
      "_________________________________________________________________\n",
      "sequential_6 (Sequential)    (None, 16, 16, 16)        14640     \n",
      "_________________________________________________________________\n",
      "sequential_8 (Sequential)    (None, 8, 8, 32)          52320     \n",
      "_________________________________________________________________\n",
      "sequential_10 (Sequential)   (None, 4, 4, 64)          207040    \n",
      "_________________________________________________________________\n",
      "global_average_pooling2d_1 ( multiple                  0         \n",
      "_________________________________________________________________\n",
      "dense_1 (Dense)              multiple                  650       \n",
      "=================================================================\n",
      "Total params: 275,162\n",
      "Trainable params: 273,562\n",
      "Non-trainable params: 1,600\n",
      "_________________________________________________________________\n",
      "352/352 [==============================] - 125s 347ms/step - loss: 2.2695 - accuracy: 0.2632 - val_loss: 2.0739 - val_accuracy: 0.3498\n"
     ]
    }
   ],
   "source": [
    "#X_train, y_train, X_test, y_test = generate_datasets()\n",
    "\n",
    "print('train input shape: ', X_train.shape) # (50000, 32, 32, 3)\n",
    "print('test input shape: ', X_test.shape) # (10000, 32, 32, 3)\n",
    "print('train output shape: ', y_train.shape) # (50000, 1)\n",
    "print('train oupput shape: ', y_train.shape) # (50000, 1)\n",
    "\n",
    "model = get_model()\n",
    "\n",
    "lr_schedule = tf.keras.callbacks.ReduceLROnPlateau(monitor='val_loss', factor=0.1, patience=2, min_lr=0.001)\n",
    "early_stopping = tf.keras.callbacks.EarlyStopping(patience=3, monitor='val_loss')\n",
    "\n",
    "history = model.fit(X_train, y_train, epochs=100, validation_split=0.1, \n",
    "\t\t\t\t\tbatch_size=BATCH_SIZE, callbacks=[lr_schedule, early_stopping])\n"
   ]
  },
  {
   "cell_type": "code",
   "execution_count": 16,
   "id": "supreme-review",
   "metadata": {},
   "outputs": [
    {
     "data": {
      "image/png": "[encoded data removed]",
      "text/plain": [
       "<Figure size 1200x400 with 1 Axes>"
      ]
     },
     "metadata": {},
     "output_type": "display_data"
    },
    {
     "data": {
      "image/png": "[encoded data removed]",
      "text/plain": [
       "<Figure size 1200x400 with 2 Axes>"
      ]
     },
     "metadata": {},
     "output_type": "display_data"
    }
   ],
   "source": [
    "import matplotlib.pyplot as plt\n",
    "\n",
    "plt.figure(figsize=(12, 4))\n",
    "\n",
    "plt.subplot(1, 2, 1)\n",
    "plt.plot(history.history['loss'], 'b-', label='loss')\n",
    "plt.plot(history.history['val_loss'], 'r--', label='val_loss')\n",
    "plt.ylim(0, 3)\n",
    "plt.xlabel('Epoch')\n",
    "plt.legend()\n",
    "\n",
    "plt.subplot(1, 2, 2)\n",
    "plt.plot(history.history['accuracy'], 'b-', label='accuracy')\n",
    "plt.plot(history.history['val_accuracy'], 'r--', label='val_accuracy')\n",
    "plt.xlabel('Epoch')\n",
    "plt.legend()\n",
    "\n",
    "plt.show()\n"
   ]
  },
  {
   "cell_type": "code",
   "execution_count": 17,
   "id": "portable-deadline",
   "metadata": {},
   "outputs": [
    {
     "data": {
      "text/plain": [
       "[2.0535495281219482, 0.35519999265670776]"
      ]
     },
     "execution_count": 17,
     "metadata": {},
     "output_type": "execute_result"
    }
   ],
   "source": [
    "model.evaluate(X_test, y_test, verbose=0) # [loss, accuracy]"
   ]
  },
  {
   "cell_type": "code",
   "execution_count": null,
   "id": "focused-renaissance",
   "metadata": {},
   "outputs": [],
   "source": []
  }
 ],
 "metadata": {
  "kernelspec": {
   "display_name": "Python 3",
   "language": "python",
   "name": "python3"
  },
  "language_info": {
   "codemirror_mode": {
    "name": "ipython",
    "version": 3
   },
   "file_extension": ".py",
   "mimetype": "text/x-python",
   "name": "python",
   "nbconvert_exporter": "python",
   "pygments_lexer": "ipython3",
   "version": "3.7.1"
  }
 },
 "nbformat": 4,
 "nbformat_minor": 5
}
